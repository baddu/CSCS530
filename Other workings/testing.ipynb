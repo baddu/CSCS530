{
 "cells": [
  {
   "cell_type": "code",
   "execution_count": 1,
   "metadata": {
    "collapsed": false
   },
   "outputs": [
    {
     "name": "stdout",
     "output_type": "stream",
     "text": [
      "['low_user', 'medium_user', 'medium_user']\n"
     ]
    }
   ],
   "source": [
    "#testing\n",
    "occupants_list = [\"low_user\",\"medium_user\",\"high_user\"]\n",
    "a=1\n",
    "b=2\n",
    "\n",
    "if occupants_list[a] == \"low_user\" or occupants_list[b] == \"low_user\":\n",
    "    occupants_list[a] = occupants_list[b]= \"low_user\"\n",
    "elif occupants_list[a] == \"medium_user\" or occupants_list[b] == \"medium_user\":\n",
    "    occupants_list[a] = occupants_list[b] = \"medium_user\"\n",
    "print occupants_list"
   ]
  },
  {
   "cell_type": "code",
   "execution_count": 2,
   "metadata": {
    "collapsed": false
   },
   "outputs": [
    {
     "ename": "NameError",
     "evalue": "name 'numpy' is not defined",
     "output_type": "error",
     "traceback": [
      "\u001b[1;31m---------------------------------------------------------------------------\u001b[0m",
      "\u001b[1;31mNameError\u001b[0m                                 Traceback (most recent call last)",
      "\u001b[1;32m<ipython-input-2-f788ab4e8d9a>\u001b[0m in \u001b[0;36m<module>\u001b[1;34m()\u001b[0m\n\u001b[0;32m      2\u001b[0m \u001b[1;33m\u001b[0m\u001b[0m\n\u001b[0;32m      3\u001b[0m \u001b[1;32mfor\u001b[0m \u001b[0mi\u001b[0m \u001b[1;32min\u001b[0m \u001b[0mxrange\u001b[0m\u001b[1;33m(\u001b[0m\u001b[1;36m10\u001b[0m\u001b[1;33m)\u001b[0m\u001b[1;33m:\u001b[0m\u001b[1;33m\u001b[0m\u001b[0m\n\u001b[1;32m----> 4\u001b[1;33m     \u001b[1;32mprint\u001b[0m \u001b[0mnumpy\u001b[0m\u001b[1;33m.\u001b[0m\u001b[0mrandom\u001b[0m\u001b[1;33m.\u001b[0m\u001b[0mbinomial\u001b[0m\u001b[1;33m(\u001b[0m\u001b[1;36m1\u001b[0m\u001b[1;33m,\u001b[0m\u001b[1;36m0.5\u001b[0m\u001b[1;33m)\u001b[0m\u001b[1;33m\u001b[0m\u001b[0m\n\u001b[0m\u001b[0;32m      5\u001b[0m \u001b[1;33m\u001b[0m\u001b[0m\n",
      "\u001b[1;31mNameError\u001b[0m: name 'numpy' is not defined"
     ]
    }
   ],
   "source": [
    "# testing\n",
    "\n",
    "for i in xrange(10):\n",
    "    print numpy.random.binomial(1,0.5) \n",
    "    "
   ]
  },
  {
   "cell_type": "code",
   "execution_count": 3,
   "metadata": {
    "collapsed": false
   },
   "outputs": [
    {
     "name": "stdout",
     "output_type": "stream",
     "text": [
      "('medium_user', 'low_user')\n",
      "(6, 6, 8)\n"
     ]
    }
   ],
   "source": [
    "#testing the good impact case\n",
    "low_users = 6\n",
    "medium_users = 5\n",
    "high_users = 9\n",
    "population_size = low_users+medium_users+high_users\n",
    "\n",
    "l = \"low_user\"\n",
    "m = \"medium_user\"\n",
    "h = \"high_user\"\n",
    "\n",
    "occupants_list = [h,l]\n",
    "\n",
    "a = 0\n",
    "b = 1\n",
    "\n",
    "#no effect if same user types interact with each other\n",
    "\n",
    "if occupants_list[a] == \"low_user\" and occupants_list[b] == \"low_user\":\n",
    "    pass\n",
    "    \n",
    "elif occupants_list[a] == \"medium_user\" and occupants_list[b] == \"medium_user\":\n",
    "    pass\n",
    "elif occupants_list[a] == \"high_user\" and occupants_list[b] == \"high_user\":\n",
    "    pass\n",
    "\n",
    "#if a low user user interact with medium user, medium user gets converted into low user. \n",
    "#if a high user interacts with low/medium user, high user converts into medium user. \n",
    "elif occupants_list[a] == \"low_user\" or occupants_list[b] == \"low_user\":\n",
    "    if occupants_list[a] == \"medium_user\" or occupants_list[b] == \"medium_user\":\n",
    "        occupants_list[a] = occupants_list[b] = \"low_user\" # change the user type\n",
    "        # update the number of users of each type after interaction\n",
    "        low_users += 1\n",
    "        medium_users = medium_users - 1\n",
    "        high_users = population_size - low_users - medium_users\n",
    "    else:\n",
    "        if occupants_list[a] == \"high_user\":\n",
    "            occupants_list[a] = \"medium_user\" # change the user type\n",
    "        elif occupants_list[b] == \"high_user\":    \n",
    "            occupants_list[b] = \"medium_user\" # change the user type\n",
    "        # update the number of users of each type after interaction\n",
    "        medium_users += 1\n",
    "        high_users = population_size - low_users - medium_users\n",
    "else:\n",
    "    occupants_list[a] = occupants_list[b] = \"medium_user\" # change the user type\n",
    "    # update the number of users of each type after interaction\n",
    "    medium_users += 1\n",
    "    high_users = population_size - low_users - medium_users\n",
    "\n",
    "print (occupants_list[a], occupants_list[b])\n",
    "print ((low_users,medium_users,high_users))\n",
    "            "
   ]
  },
  {
   "cell_type": "code",
   "execution_count": 4,
   "metadata": {
    "collapsed": false
   },
   "outputs": [
    {
     "name": "stdout",
     "output_type": "stream",
     "text": [
      "('medium_user', 'high_user')\n",
      "(5, 6, 9)\n"
     ]
    }
   ],
   "source": [
    "\n",
    "#testing the bad impact case\n",
    "low_users = 6\n",
    "medium_users = 5\n",
    "high_users = 9\n",
    "population_size = low_users+medium_users+high_users\n",
    "\n",
    "l = \"low_user\"\n",
    "m = \"medium_user\"\n",
    "h = \"high_user\"\n",
    "\n",
    "occupants_list = [l,h]\n",
    "\n",
    "a = 0\n",
    "b = 1\n",
    "\n",
    "if occupants_list[a] == \"low_user\" and occupants_list[b] == \"low_user\":\n",
    "    pass\n",
    "elif occupants_list[a] == \"medium_user\" and occupants_list[b] == \"medium_user\":\n",
    "    pass\n",
    "elif occupants_list[a] == \"high_user\" and occupants_list[b] == \"high_user\":\n",
    "    pass\n",
    "                        \n",
    "elif occupants_list[a] == \"high_user\" or occupants_list[b] == \"high_user\":\n",
    "    if occupants_list[a] == \"medium_user\" or occupants_list[b] == \"medium_user\":\n",
    "        occupants_list[a] = \"high_users\"\n",
    "        occupants_list[b] = \"high_user\" \n",
    "        medium_users = medium_users - 1\n",
    "        high_users = population_size - low_users - medium_users\n",
    "    elif occupants_list[a] == \"low_user\" or occupants_list[b] == \"low_user\":\n",
    "        if occupants_list[a] == \"low_user\":\n",
    "            occupants_list[a] = \"medium_user\"\n",
    "        elif occupants_list[b] == \"low_user\":\n",
    "            occupants_list[b] = \"medium_user\"\n",
    "        low_users = low_users - 1\n",
    "        medium_users = medium_users + 1\n",
    "        high_users = population_size - low_users - medium_users\n",
    "                               \n",
    "else:\n",
    "    occupants_list[a] = \"medium_user\" \n",
    "    occupants_list[b] = \"medium_user\"\n",
    "    medium_users += 1\n",
    "    low_users = low_users - 1\n",
    "    high_users = population_size - low_users - medium_users\n",
    "\n",
    "print (occupants_list[a], occupants_list[b])\n",
    "print ((low_users,medium_users,high_users))\n",
    "  "
   ]
  },
  {
   "cell_type": "code",
   "execution_count": 5,
   "metadata": {
    "collapsed": false
   },
   "outputs": [
    {
     "ename": "AttributeError",
     "evalue": "'str' object has no attribute 'space'",
     "output_type": "error",
     "traceback": [
      "\u001b[1;31m---------------------------------------------------------------------------\u001b[0m",
      "\u001b[1;31mAttributeError\u001b[0m                            Traceback (most recent call last)",
      "\u001b[1;32m<ipython-input-5-b3441d2e01c6>\u001b[0m in \u001b[0;36m<module>\u001b[1;34m()\u001b[0m\n\u001b[0;32m      1\u001b[0m \u001b[1;31m# testing the space\u001b[0m\u001b[1;33m\u001b[0m\u001b[1;33m\u001b[0m\u001b[0m\n\u001b[0;32m      2\u001b[0m \u001b[1;33m\u001b[0m\u001b[0m\n\u001b[1;32m----> 3\u001b[1;33m \u001b[1;32mprint\u001b[0m \u001b[0mm\u001b[0m\u001b[1;33m.\u001b[0m\u001b[0mspace\u001b[0m\u001b[1;33m\u001b[0m\u001b[0m\n\u001b[0m\u001b[0;32m      4\u001b[0m \u001b[1;33m\u001b[0m\u001b[0m\n\u001b[0;32m      5\u001b[0m \u001b[1;32mprint\u001b[0m \u001b[0mm\u001b[0m\u001b[1;33m.\u001b[0m\u001b[0mspace\u001b[0m\u001b[1;33m[\u001b[0m\u001b[1;36m0\u001b[0m\u001b[1;33m]\u001b[0m\u001b[1;33m[\u001b[0m\u001b[1;36m0\u001b[0m\u001b[1;33m]\u001b[0m\u001b[1;33m\u001b[0m\u001b[0m\n",
      "\u001b[1;31mAttributeError\u001b[0m: 'str' object has no attribute 'space'"
     ]
    }
   ],
   "source": [
    "# testing the space\n",
    "\n",
    "print m.space\n",
    "\n",
    "print m.space[0][0]\n",
    "print m.space[1][0]\n",
    "print m.space[3][0]\n"
   ]
  },
  {
   "cell_type": "code",
   "execution_count": null,
   "metadata": {
    "collapsed": true
   },
   "outputs": [],
   "source": []
  }
 ],
 "metadata": {
  "kernelspec": {
   "display_name": "Python 2",
   "name": "python2"
  },
  "language_info": {
   "codemirror_mode": {
    "name": "ipython",
    "version": 2
   },
   "file_extension": ".py",
   "mimetype": "text/x-python",
   "name": "python",
   "nbconvert_exporter": "python",
   "pygments_lexer": "ipython2",
   "version": "2.7.8"
  }
 },
 "nbformat": 4,
 "nbformat_minor": 0
}
