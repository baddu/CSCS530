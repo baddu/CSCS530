{
 "cells": [
  {
   "cell_type": "markdown",
   "metadata": {},
   "source": [
    "##Term Project - Understanding the Impact of various intervention strategies on Building’s                                                    Energy Usage through Agent Based Models\n",
    "### Author: Albert Thomas and Bharadwaj Mantha \n",
    "#### Complex Systems 530 - Computer Modeling of Complex Systems (Winter 2015)\n",
    "  * Course ID: CMPLXSYS 530\n",
    "  * Course Title: Computer Modeling of Complex Systems\n",
    "  * Term: Winter 2015 \n",
    "  * Date modified - 3_20_2015\n",
    "  * Time 10:50 PM"
   ]
  },
  {
   "cell_type": "markdown",
   "metadata": {},
   "source": [
    "# 1. Problem Statement\n",
    "\n",
    "The main objective of this project is to create an agent based model, that simulates the effects of dynamic occupant interactions and interventions such as variations in the building performance levels and frequent education programs in reducing the energy usage of the building. \n",
    "\n",
    "## 2. Why ABM for solving the problem\n",
    "\n",
    "There are dynamic occupant interactions and building manager interventions during the life time of a building which can affect the energy usage patterns in a building. To represent this dynamic nature, ABM provides the best solution. \n",
    "\n",
    "In this notebook, we will develop a simple model that:\n",
    "* uses object-oriented concepts, e.g., classes\n",
    "* implements an agent-based approach to Building Energy Modeling\n",
    "* demonstrates how an institution or norm set by Building Manager can influence the building systems efficiency and the energy use patterns of occupants. \n",
    "\n",
    "## 3. Defining the Model\n",
    "\n",
    "### Space\n",
    "\n",
    "In this model, our space will be a two-dimensional (2D) square grid. Each grid cell will contain zero or one people. Edges of the grid will wrap around.\n",
    "\n",
    "### Actors \n",
    "\n",
    "#### Agents\n",
    "\n",
    "This Agent Based Model will have two different types of agents, \n",
    "* Building Occupants - who live and interact in the space (building) and\n",
    "* Building Managers - who are responsible for the dynamic interventions such as educational programs, building maintenance etc.\n",
    "\n",
    "#### Institution\n",
    "\n",
    "In this model Building manager (one of the agents in this model) sets the institutions/ norms i.e. the frequency of maintenance activities and educational awareness programs. \n",
    "\n",
    "### Initial conditions\n",
    "\n",
    "#### Agents\n",
    "\n",
    "* Building occupants will be randomly distributed throughout the grid by sampling from a uniform discrete distribution with replacement. In the event that an occupant has already been placed at the sampled location, we continue drawing a new nandom position until it is unoccupied.\n",
    "* Building occupants will have their probability of interaction randomly initialized to a value from any continuous distribution.\n",
    "* Building Managers have their probability of interventions randomly initialized. \n",
    "\n",
    "#### Institutions\n",
    "\n",
    "* The building energy efficiency set to a default level of 100% at the start of the simualation.\n",
    "\n",
    "### Model Parameters\n",
    "\n",
    "Based on the description above, we need the following model parameters:\n",
    "\n",
    " * ``grid_size``: size of the two-dimensional square grid, i.e., dimension length of the space\n",
    " * ``population_size``: number of occupants in the building; must be less than ${grid\\_size}^2$\n",
    " * `` prob_interaction``: prabability of occupants interacting. \n",
    " \n",
    "### List of sweep parameters\n",
    " \n",
    " * ``population_size`` : keeping the space constant how population_size changes the energy usage in buildings\n",
    " * ``user_type`` : Initial percentage of low, medium, and high energy users\n",
    " * `` maintenance_frequency`` : The frequency of maintenance of the building\n",
    " * ``affect_AP `` affect of awareness programs on the occupants"
   ]
  },
  {
   "cell_type": "code",
   "execution_count": 29,
   "metadata": {
    "collapsed": false
   },
   "outputs": [],
   "source": [
    "# Scientific computing imports\n",
    "import numpy \n",
    "import numpy.random\n",
    "\n",
    "class Building_Occupants():\n",
    "    \n",
    "    \"\"\"\n",
    "    Occipant class, which encapsulates the entire behavior of an occupant in a building.\n",
    "    \n",
    "    \"\"\"    \n",
    "        \n",
    "    def __init__ (self, model, occupant_id, user_type = \"low_user\"\n",
    "                  ):\n",
    "        \"\"\"\n",
    "        Constructor for Building_Occupants class\n",
    "        By default,\n",
    "        user_type = \"Medium_User\" i.e. medium energy user. \n",
    "    \n",
    "        \"\"\"\n",
    "        self.model = model\n",
    "        self.occupant_id = occupant_id\n",
    "        self.user_type= user_type\n",
    "        \n",
    "\n",
    "#Agent_type = Building_Agents()\n",
    "#print Agent_type.get_User_Type()\n",
    "        "
   ]
  },
  {
   "cell_type": "code",
   "execution_count": 48,
   "metadata": {
    "collapsed": false
   },
   "outputs": [],
   "source": [
    "# Scientific computing imports\n",
    "import numpy \n",
    "\n",
    "class Model(object):\n",
    "    \"\"\"\n",
    "    Model class, which encapsulates the entire behavior of a single \"run\" in our HIV ABM.\n",
    "    \n",
    "    \"\"\"\n",
    "    def __init__(self,\n",
    "                 grid_size, \n",
    "                 population_size, \n",
    "                 numOfYears,\n",
    "                 low_users,\n",
    "                 medium_users\n",
    "                ):\n",
    "        \n",
    "        # Setting the model parameters;\n",
    "        self.grid_size = grid_size\n",
    "        self.population_size = population_size\n",
    "        self.numOfYears = numOfYears\n",
    "        self.low_users = low_users\n",
    "        self.medium_users = medium_users\n",
    "        \n",
    "    # Setting the state variables\n",
    "        self.occupants_list = []\n",
    "    \n",
    "        self.create_occupants()\n",
    "    \n",
    "    def create_occupants(self):\n",
    "        for occupant_id in range(self.population_size):\n",
    "            if (occupant_id < self.low_users):\n",
    "                self.occupants_list.append(Building_Occupants(self, occupant_id, user_type = \"low_user\"))\n",
    "            if (occupant_id >= self.low_users and occupant_id < self.low_users + self.medium_users):\n",
    "                self.occupants_list.append(Building_Occupants(self, occupant_id, user_type = \"medium_user\"))\n",
    "            elif (occupant_id >= self.low_users + self.medium_users):\n",
    "                self.occupants_list.append(Building_Occupants(self, occupant_id, user_type = \"high_user\"))"
   ]
  },
  {
   "cell_type": "code",
   "execution_count": 53,
   "metadata": {
    "collapsed": false
   },
   "outputs": [
    {
     "name": "stdout",
     "output_type": "stream",
     "text": [
      "(0, 0, 'low_user')\n",
      "(1, 1, 'low_user')\n",
      "(2, 2, 'medium_user')\n",
      "(3, 3, 'medium_user')\n",
      "(4, 4, 'medium_user')\n",
      "(5, 5, 'high_user')\n",
      "(6, 6, 'high_user')\n",
      "(7, 7, 'high_user')\n",
      "(8, 8, 'high_user')\n",
      "(9, 9, 'high_user')\n"
     ]
    }
   ],
   "source": [
    "m = Model(grid_size = 3,population_size = 10, numOfYears = 5, low_users = 2, medium_users = 3)\n",
    "\n",
    "for i in range(len(m.occupants_list)):\n",
    "    print((i, m.occupants_list[i].occupant_id, m.occupants_list[i].user_type))\n"
   ]
  },
  {
   "cell_type": "markdown",
   "metadata": {
    "collapsed": true
   },
   "source": [
    "## Future Works\n",
    "\n",
    "Firstly, we plan to develop more methods which include interacting occupants and step method to finally compute the energy consumption alongside improving the existing framework we developed till date. In addition to that we will keep on developing the current framework. \n",
    "\n",
    "## Results\n",
    "\n",
    "### Overview of the results\n",
    "\n",
    "Created Model Space and allocated occupants in the space\n",
    "Simulated the building performance variation pattern and the presence of educational programs over the lifetime of a building.\n",
    " \n",
    "\n",
    "\n",
    "### Hypothesis of the results\n",
    "\n",
    "One of the very obvious results we expect is by increasing the number of occupants in the space, building energy consumption increases. But we are interesting in looking at the results based on the initial percentage of the occupants (low, medium and high).  \n"
   ]
  },
  {
   "cell_type": "code",
   "execution_count": null,
   "metadata": {
    "collapsed": true
   },
   "outputs": [],
   "source": []
  }
 ],
 "metadata": {
  "kernelspec": {
   "display_name": "Python 2",
   "name": "python2"
  },
  "language_info": {
   "codemirror_mode": {
    "name": "ipython",
    "version": 2
   },
   "file_extension": ".py",
   "mimetype": "text/x-python",
   "name": "python",
   "nbconvert_exporter": "python",
   "pygments_lexer": "ipython2",
   "version": "2.7.8"
  }
 },
 "nbformat": 4,
 "nbformat_minor": 0
}
