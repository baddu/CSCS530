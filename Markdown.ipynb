{
 "cells": [
  {
   "cell_type": "markdown",
   "metadata": {},
   "source": [
    "## 1. INTRODUCTION\n",
    "\n",
    "    A building's typical life span comprises of different phases such as design and construction, operation phase and end of life phase. All phases require energy to perform its various functions. Energy requirements in design and construction phase mainly comprises of energy for material production and also for constructing the facility. Operation phase energy includes electricity, gas consumption and also the energy required for performing maintenance and replacement activities. End of life phase consists of energy for demolishing the building and also the energy that is coming back to the grid through recycling of materials. There is a growing concern for the increased energy usage in buildings. Most importantly, 80% of the energy consumed in the entire building life cycle is during the operation and maintenance phase. Therefore, there is a need for reducing and optimizing the energy usage during the operation and maintenance phase.\n",
    "\n",
    "    During operation phase, there are mainly two factors affecting a building's energy consumption that are energy use behavior of the building occupants who uses the building and also the performance of the building.Building occupants being the primary energy users of the building, directly control the energy usage of the buildings. Also, the performance of the building as a whole can affect the energy usage. Building performance will decrease mainly due to deterioration of materials and also due to the decrease in building systems efficiency due to ageing. Traditionally, the building energy estimation softwares (eQuest, EnergyPlus, Energy-10, IES VE) estimates building energy usage assuming static occupant behavior. However occupants interacting and networking with each other in the building is proved to have an impact on the energy usage. Various research studies concentrated on analyzing the effect of occupant behavior in the energy consumption of the building and emphasized that energy conservative actions from the occupants can result in significant energy savings (Azar et al. 2011, Bourgeois et al. 2006, Sanchez et al. 2007). \n",
    "    \n",
    "    The main objective of this project is to create an agent based model simulating the effects of dynamic occupant interactions and also various interventions in a building such as variations in the building performance levels, awareness programs aiming energy conservation etc. Occupants will be considered as agents interacting and networking in the model space (building) and changing their behavior over due to the influence of various factors mentioned as above. Thus, by adopting an agent based modelling concept, this model aims to consider the dynamic behavior of occupants rather than a constant energy usage attribute for all the occupants that can significantly vary the energy usage in buildings. The estimation of dynamic behavior of occupants can give a better prediction of the energy usage profile compared to the static occupant behavior. This study can also benefit building owners, stakeholders, and utility companies to optimize the building performance and better predict the energy demand fluctuations during the operation phase of a building.\n",
    "    The final aim of this project is in performing a parameter analysis and arriving at the optimum set of instituitions / policies that can be adopted by the building managers / stakeholders that results in the most optimum energy consumption."
   ]
  },
  {
   "cell_type": "markdown",
   "metadata": {},
   "source": [
    "## 2. METHODOLOGY\n",
    "\n",
    "    The main actors in our model are the Building, Occupants (Agents living in the building) and various institutional measures (building maintenance activities and educational programs). A step function connectsthese actors and performs the parameter sweep to arrive at the most optimum energy use case scenario.\n",
    "\n",
    "### 2.1. Building Model\n",
    "\n",
    "    The building considered for this project is a case study building model (replicated as a 2D grid space), a single floor office building having 10,000 sq. ft. of floor area located in Ann Arbor, Michigan. The 2D space will provide a platform for the agents to interact during each simulation advancement.  Each occupant of the building will be allotted same working space and accordingly the grid dimensions and boundary is arrived upon. The major parameteres defining the building model class are given below\n",
    "\n",
    "    grid_size               - Defines the size of the grid \n",
    "    population_size         - Defines the number of occupants in a building \n",
    "    numOfYears              - Decides the number of years in which the model is in operation\n",
    "    low_users               - Number of low users out of the total population\n",
    "    medium_users            - Number of low users out of the total population\n",
    "    high_users              - Number of high users out of total population\n",
    "    low_user_consume        - Low user's energy consumption per year\n",
    "    medium_user_consume     - medium user's energy consumption per year\n",
    "    high_user_consume       - high user's energy consumption per year\n",
    "    total_energy            - Base energy consumption ( per year ) adopted from Energy Simulation analysis(For 100 occupants)\n",
    "\n",
    "    Various methods created in the model class performs various tasks such as creating space, setting up occupants in the space, getting an occupant's and neighbor's position, moving occupants to the next position, randomly interacting with the neighbor and influencing the occupant's behavior, determining the effect of various institutional activities ( described in the next sections), determining the total energy consumption.  \n",
    "\n",
    "### 2.2. Building occupants\n",
    "\n",
    "    Building Occupants are the agents who live and interact in the space (building). Building occupants will be randomly distributed throughout the grid by sampling from a uniform discrete distribution with replacement. In the event that an occupant has already been placed at the sampled location, we continue drawing a new nandom position until it is unoccupied. Occupants will have their probability of interaction randomly initialized. The major parameters defining the building occupants class is given below.\n",
    "    \n",
    "    occupant_id             - An id number to denote an occupant\n",
    "    user_type               - Type of occupant (low / medium / high)\n",
    "    energy_consumption      - Energy consumption of a single occupant\n",
    "    prob_hookup             - Probability of interactions with other occupants\n",
    "\n",
    "    While creating an occupant, various methods inside the occupants class performs various actions like deciding on whether the occupant wants to interact with an other occupant, whether the occupant wants to change the energy use behavior of the interacting occupant, getting neighbor's position etc.\n",
    "    \n",
    "### 2.3. Instituitions and Policies\n",
    "    \n",
    "    Typically in any building, building managers who are responsible for maintaining the building performs various dynamic interventions such as educational programs, building maintenance etc. have a critical role in determining the energy usage inside a building. In this model, the institutions/ norms i.e. the frequency of maintenance activities and educational awareness programs are modelled as sperate methods inside the model class.\n",
    "    \n",
    "    The building energy efficiency is set to a default level of 100% at the start of the simualation. During the life time of a building the effciency of the building will come down due to the deterioration of material and also due to the reduction in effciency of various other systems like HVAC, electrical applicances etc. Meanwhile, various maintenance activities can increase the performance of the building. The methods in the model class dtermines the these fluctuations in building efficiency randomly. Similarly, building managers conducts educational awareness programs which can have a postive impact on reducing the energy consumption behavior of the occupants. The presence of educational programs are also randomly generated in the model class using a method.\n",
    "    \n",
    "### 2.4. Iteration procedures and Scenario Analysis\n",
    "\n",
    "    The model is iterated over the analysis period (For this project, a period of 10 years is considered). The step function available in the model class simulates the energy consumption on an yearly basis for a particular set of institutions and policies. Based on the results obtained, a building manager might want to test the effect of different set of institutions/ policies on the energy consumption. This action will be performed in the parameter sweep/ scenario analysis."
   ]
  },
  {
   "cell_type": "markdown",
   "metadata": {},
   "source": [
    "## 3. RESULTS AND DISCUSSIONS\n",
    "\n",
    "    \n",
    "### 3.1. Single Iteration of the Model\n",
    "    \n",
    "    A single iteration of the model will result in the total energy consumption values and also the dynamic mix of occupants for the entire analysis period. During each year in the analysis period, the mix of ocupants varies and the effect of this change can be evident in the total energy consumption value. Occupant type changes because of the networking and interactions happening between different occupants during the simulation time. The typical outputs that will be generated in the model includes a plot of the energy consumption values, visualisation of the grid containing occupants, and a network diagram showing the connections between occupants.\n",
    "    \n",
    "### 3.2. Scenario Analysis ( Parameter Sweep)\n",
    "\n",
    "    The model thus created can be used by the building managers to determine an optimum schedule for applying the interventions. This can be achieved by performing a parametric sweep analysis by varying different paramteres in the model. For example, the wall and roof maintenance frequency can be varied between different acceptable ranges and can observe the corresponding changes in the total average energy consumption values. From observing the results of this analysis the building maangers can select a best case scenario that results in an optimum energy consumption.\n",
    "    \n",
    "### 3.3. Statistical Analysis\n",
    "\n",
    "    Finally, total average energy consumption values obtained from the parametric sweep analysis are analyzed to determine whether the data is following any distribution patterns. \n",
    "    \n",
    "       \n",
    "    \n",
    "       "
   ]
  },
  {
   "cell_type": "markdown",
   "metadata": {},
   "source": [
    "## 4. CONCLUSIONS AND FUTURE WORK\n",
    "\n",
    "    The main focus of this term project was to study the effects of various dynamic factors that affect the energy consumption in a building. A building located in Ann Arbor is selected for this case study analysis. A python model that simulates the energy consumption details for the entire life time of a building is created. The major factors that were taken into this project are the effect of occupant behavior, building performance and energy awareness programs. A paremetric sweep analysis was also conducted to check the validity of the model and also to find out a most feasible statistical fit to the model.In future, the authors would want to develop this model into a more comprehensive one incorporating different other parameters like impact of incentives and persuasion methodolgies on energy use and also the cost impact of each intervention mechanism. \n",
    "    \n",
    "    The authors would like to thank Prof Mike Bommarito and Ms. Sarah Cherng for their continious support and motivation during the entire course duration.  "
   ]
  }
 ],
 "metadata": {
  "kernelspec": {
   "display_name": "Python 2",
   "language": "python",
   "name": "python2"
  },
  "language_info": {
   "codemirror_mode": {
    "name": "ipython",
    "version": 2
   },
   "file_extension": ".py",
   "mimetype": "text/x-python",
   "name": "python",
   "nbconvert_exporter": "python",
   "pygments_lexer": "ipython2",
   "version": "2.7.9"
  }
 },
 "nbformat": 4,
 "nbformat_minor": 0
}
